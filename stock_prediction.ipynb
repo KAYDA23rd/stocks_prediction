{
 "cells": [
  {
   "cell_type": "code",
   "execution_count": 1,
   "id": "79a65a6c-70ec-4b47-9e84-b261587d95a9",
   "metadata": {},
   "outputs": [],
   "source": [
    "import yfinance as yf\n",
    "import pandas as pd\n",
    "\n",
    "# List of chosen companies' ticker symbols\n",
    "selected_tickers = ['NOV', 'PTGX', 'JHG', 'PBF']  # Replace with your chosen tickers\n",
    "peer_tickers = ['LBRT', 'ROIV', 'FHI', 'DINO']  # Replace with actual peers\n",
    "\n",
    "# Function to collect data for a list of tickers\n",
    "def collect_data(tickers, period='5y'):\n",
    "    data = {}\n",
    "    for ticker in tickers:\n",
    "        stock = yf.Ticker(ticker)\n",
    "        data[ticker] = stock.history(period=period)\n",
    "    return data"
   ]
  },
  {
   "cell_type": "code",
   "execution_count": 2,
   "id": "f0e531ae-6471-4c2d-907f-e556417aefeb",
   "metadata": {},
   "outputs": [
    {
     "ename": "PermissionError",
     "evalue": "[Errno 13] Permission denied: 'tickers.csv'",
     "output_type": "error",
     "traceback": [
      "\u001b[1;31m---------------------------------------------------------------------------\u001b[0m",
      "\u001b[1;31mPermissionError\u001b[0m                           Traceback (most recent call last)",
      "\u001b[1;32m~\\AppData\\Local\\Temp\\ipykernel_169820\\2885387673.py\u001b[0m in \u001b[0;36m<module>\u001b[1;34m\u001b[0m\n\u001b[0;32m      8\u001b[0m \u001b[1;33m\u001b[0m\u001b[0m\n\u001b[0;32m      9\u001b[0m \u001b[1;31m# Save to CSV\u001b[0m\u001b[1;33m\u001b[0m\u001b[1;33m\u001b[0m\u001b[0m\n\u001b[1;32m---> 10\u001b[1;33m \u001b[0mselected_df\u001b[0m\u001b[1;33m.\u001b[0m\u001b[0mto_csv\u001b[0m\u001b[1;33m(\u001b[0m\u001b[1;34m'tickers.csv'\u001b[0m\u001b[1;33m)\u001b[0m\u001b[1;33m\u001b[0m\u001b[1;33m\u001b[0m\u001b[0m\n\u001b[0m\u001b[0;32m     11\u001b[0m \u001b[1;33m\u001b[0m\u001b[0m\n\u001b[0;32m     12\u001b[0m \u001b[0mpeer_df\u001b[0m\u001b[1;33m.\u001b[0m\u001b[0mto_csv\u001b[0m\u001b[1;33m(\u001b[0m\u001b[1;34m'peers.csv'\u001b[0m\u001b[1;33m)\u001b[0m\u001b[1;33m\u001b[0m\u001b[1;33m\u001b[0m\u001b[0m\n",
      "\u001b[1;32mC:\\ProgramData\\Anaconda3\\lib\\site-packages\\pandas\\core\\generic.py\u001b[0m in \u001b[0;36mto_csv\u001b[1;34m(self, path_or_buf, sep, na_rep, float_format, columns, header, index, index_label, mode, encoding, compression, quoting, quotechar, line_terminator, chunksize, date_format, doublequote, escapechar, decimal, errors, storage_options)\u001b[0m\n\u001b[0;32m   3549\u001b[0m         )\n\u001b[0;32m   3550\u001b[0m \u001b[1;33m\u001b[0m\u001b[0m\n\u001b[1;32m-> 3551\u001b[1;33m         return DataFrameRenderer(formatter).to_csv(\n\u001b[0m\u001b[0;32m   3552\u001b[0m             \u001b[0mpath_or_buf\u001b[0m\u001b[1;33m,\u001b[0m\u001b[1;33m\u001b[0m\u001b[1;33m\u001b[0m\u001b[0m\n\u001b[0;32m   3553\u001b[0m             \u001b[0mline_terminator\u001b[0m\u001b[1;33m=\u001b[0m\u001b[0mline_terminator\u001b[0m\u001b[1;33m,\u001b[0m\u001b[1;33m\u001b[0m\u001b[1;33m\u001b[0m\u001b[0m\n",
      "\u001b[1;32mC:\\ProgramData\\Anaconda3\\lib\\site-packages\\pandas\\io\\formats\\format.py\u001b[0m in \u001b[0;36mto_csv\u001b[1;34m(self, path_or_buf, encoding, sep, columns, index_label, mode, compression, quoting, quotechar, line_terminator, chunksize, date_format, doublequote, escapechar, errors, storage_options)\u001b[0m\n\u001b[0;32m   1178\u001b[0m             \u001b[0mformatter\u001b[0m\u001b[1;33m=\u001b[0m\u001b[0mself\u001b[0m\u001b[1;33m.\u001b[0m\u001b[0mfmt\u001b[0m\u001b[1;33m,\u001b[0m\u001b[1;33m\u001b[0m\u001b[1;33m\u001b[0m\u001b[0m\n\u001b[0;32m   1179\u001b[0m         )\n\u001b[1;32m-> 1180\u001b[1;33m         \u001b[0mcsv_formatter\u001b[0m\u001b[1;33m.\u001b[0m\u001b[0msave\u001b[0m\u001b[1;33m(\u001b[0m\u001b[1;33m)\u001b[0m\u001b[1;33m\u001b[0m\u001b[1;33m\u001b[0m\u001b[0m\n\u001b[0m\u001b[0;32m   1181\u001b[0m \u001b[1;33m\u001b[0m\u001b[0m\n\u001b[0;32m   1182\u001b[0m         \u001b[1;32mif\u001b[0m \u001b[0mcreated_buffer\u001b[0m\u001b[1;33m:\u001b[0m\u001b[1;33m\u001b[0m\u001b[1;33m\u001b[0m\u001b[0m\n",
      "\u001b[1;32mC:\\ProgramData\\Anaconda3\\lib\\site-packages\\pandas\\io\\formats\\csvs.py\u001b[0m in \u001b[0;36msave\u001b[1;34m(self)\u001b[0m\n\u001b[0;32m    239\u001b[0m         \"\"\"\n\u001b[0;32m    240\u001b[0m         \u001b[1;31m# apply compression and byte/text conversion\u001b[0m\u001b[1;33m\u001b[0m\u001b[1;33m\u001b[0m\u001b[0m\n\u001b[1;32m--> 241\u001b[1;33m         with get_handle(\n\u001b[0m\u001b[0;32m    242\u001b[0m             \u001b[0mself\u001b[0m\u001b[1;33m.\u001b[0m\u001b[0mfilepath_or_buffer\u001b[0m\u001b[1;33m,\u001b[0m\u001b[1;33m\u001b[0m\u001b[1;33m\u001b[0m\u001b[0m\n\u001b[0;32m    243\u001b[0m             \u001b[0mself\u001b[0m\u001b[1;33m.\u001b[0m\u001b[0mmode\u001b[0m\u001b[1;33m,\u001b[0m\u001b[1;33m\u001b[0m\u001b[1;33m\u001b[0m\u001b[0m\n",
      "\u001b[1;32mC:\\ProgramData\\Anaconda3\\lib\\site-packages\\pandas\\io\\common.py\u001b[0m in \u001b[0;36mget_handle\u001b[1;34m(path_or_buf, mode, encoding, compression, memory_map, is_text, errors, storage_options)\u001b[0m\n\u001b[0;32m    784\u001b[0m         \u001b[1;32mif\u001b[0m \u001b[0mioargs\u001b[0m\u001b[1;33m.\u001b[0m\u001b[0mencoding\u001b[0m \u001b[1;32mand\u001b[0m \u001b[1;34m\"b\"\u001b[0m \u001b[1;32mnot\u001b[0m \u001b[1;32min\u001b[0m \u001b[0mioargs\u001b[0m\u001b[1;33m.\u001b[0m\u001b[0mmode\u001b[0m\u001b[1;33m:\u001b[0m\u001b[1;33m\u001b[0m\u001b[1;33m\u001b[0m\u001b[0m\n\u001b[0;32m    785\u001b[0m             \u001b[1;31m# Encoding\u001b[0m\u001b[1;33m\u001b[0m\u001b[1;33m\u001b[0m\u001b[0m\n\u001b[1;32m--> 786\u001b[1;33m             handle = open(\n\u001b[0m\u001b[0;32m    787\u001b[0m                 \u001b[0mhandle\u001b[0m\u001b[1;33m,\u001b[0m\u001b[1;33m\u001b[0m\u001b[1;33m\u001b[0m\u001b[0m\n\u001b[0;32m    788\u001b[0m                 \u001b[0mioargs\u001b[0m\u001b[1;33m.\u001b[0m\u001b[0mmode\u001b[0m\u001b[1;33m,\u001b[0m\u001b[1;33m\u001b[0m\u001b[1;33m\u001b[0m\u001b[0m\n",
      "\u001b[1;31mPermissionError\u001b[0m: [Errno 13] Permission denied: 'tickers.csv'"
     ]
    }
   ],
   "source": [
    "# Collect data for selected companies and peers\n",
    "selected_data = collect_data(selected_tickers)\n",
    "peer_data = collect_data(peer_tickers)\n",
    "\n",
    "# Convert data to DataFrame\n",
    "selected_df = pd.concat(selected_data, axis=1)\n",
    "peer_df = pd.concat(peer_data, axis=1)\n",
    "\n",
    "# Save to CSV\n",
    "selected_df.to_csv('tickers.csv')\n",
    "\n",
    "peer_df.to_csv('peers.csv')"
   ]
  },
  {
   "cell_type": "code",
   "execution_count": null,
   "id": "95b7a0ca-322a-40f3-8202-1d6ccff57a47",
   "metadata": {},
   "outputs": [],
   "source": [
    "# Load data\n",
    "selected_df = pd.read_csv('tickers.csv', header=[0, 1])\n",
    "peer_df = pd.read_csv('peers.csv', header=[0, 1])\n",
    "\n",
    "# Select only the numeric columns\n",
    "selected_numeric_df = selected_df.select_dtypes(include=[float, int])\n",
    "peer_numeric_df = peer_df.select_dtypes(include=[float, int])\n",
    "\n",
    "# Calculate the average stock price for each company\n",
    "selected_avg_prices = selected_numeric_df.mean()\n",
    "peer_avg_prices = peer_numeric_df.mean()\n",
    "\n",
    "# Compare selected companies with peers\n",
    "comparison = pd.DataFrame({\n",
    "    'Selected Companies': selected_avg_prices,\n",
    "    'Peer Companies': peer_avg_prices\n",
    "})\n",
    "\n",
    "print(comparison)\n"
   ]
  },
  {
   "cell_type": "code",
   "execution_count": 10,
   "id": "7bb9f721-5bcc-487e-ac4c-5c6af557fc0e",
   "metadata": {},
   "outputs": [
    {
     "name": "stdout",
     "output_type": "stream",
     "text": [
      "NOV   Open            2.037474e+01\n",
      "      High            2.077096e+01\n",
      "      Low             1.997460e+01\n",
      "      Close           2.036850e+01\n",
      "      Volume          5.325287e+06\n",
      "      Dividends       7.005104e-04\n",
      "      Stock Splits    0.000000e+00\n",
      "PTGX  Open            2.512564e+01\n",
      "      High            2.584604e+01\n",
      "      Low             2.440201e+01\n",
      "      Close           2.514042e+01\n",
      "      Volume          9.714217e+05\n",
      "      Dividends       0.000000e+00\n",
      "      Stock Splits    0.000000e+00\n",
      "JHG   Open            3.072016e+01\n",
      "      High            3.112348e+01\n",
      "      Low             3.030786e+01\n",
      "      Close           3.073103e+01\n",
      "      Volume          1.428195e+06\n",
      "      Dividends       7.294970e-03\n",
      "      Stock Splits    0.000000e+00\n",
      "PBF   Open            3.277413e+01\n",
      "      High            3.357744e+01\n",
      "      Low             3.196785e+01\n",
      "      Close           3.275680e+01\n",
      "      Volume          4.097010e+06\n",
      "      Dividends       2.367242e-03\n",
      "      Stock Splits    0.000000e+00\n",
      "dtype: float64\n"
     ]
    }
   ],
   "source": [
    "import numpy as np\n",
    "\n",
    "# Function to project future value\n",
    "def project_future_value(current_value, growth_rate, years):\n",
    "    return current_value * (1 + growth_rate) ** years\n",
    "\n",
    "# Example values (replace with actual data)\n",
    "current_values = selected_avg_prices\n",
    "growth_rate = 0.05  # 5% annual growth\n",
    "years = 4\n",
    "\n",
    "# Project future values\n",
    "future_values = current_values.apply(lambda x: project_future_value(x, growth_rate, years))\n",
    "\n",
    "print(future_values)"
   ]
  },
  {
   "cell_type": "code",
   "execution_count": null,
   "id": "b0770aa7-0656-4f82-87ec-e044e6961c5e",
   "metadata": {},
   "outputs": [],
   "source": []
  }
 ],
 "metadata": {
  "kernelspec": {
   "display_name": "Python 3 (ipykernel)",
   "language": "python",
   "name": "python3"
  },
  "language_info": {
   "codemirror_mode": {
    "name": "ipython",
    "version": 3
   },
   "file_extension": ".py",
   "mimetype": "text/x-python",
   "name": "python",
   "nbconvert_exporter": "python",
   "pygments_lexer": "ipython3",
   "version": "3.9.13"
  }
 },
 "nbformat": 4,
 "nbformat_minor": 5
}
